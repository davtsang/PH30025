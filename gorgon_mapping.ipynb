{
 "cells": [
  {
   "cell_type": "code",
   "execution_count": 19,
   "metadata": {},
   "outputs": [],
   "source": [
    "from PIL import Image, ImageSequence\n",
    "from tiled import apply_map\n",
    "from conformal import mobius_inverse\n",
    "\"\"\"\n",
    "Boring file loading stuff used to calle the\n",
    "stuff from tiled and conformal\n",
    "\"\"\"\n",
    "\n",
    "import cmath\n",
    "import math"
   ]
  },
  {
   "cell_type": "code",
   "execution_count": 186,
   "metadata": {},
   "outputs": [],
   "source": [
    "conformal_map = lambda z: 1/(40*z)"
   ]
  },
  {
   "cell_type": "code",
   "execution_count": 187,
   "metadata": {},
   "outputs": [
    {
     "name": "stdout",
     "output_type": "stream",
     "text": [
      "done\n"
     ]
    }
   ],
   "source": [
    "input_file = \"images/Gorgon.png\"\n",
    "output_file = \"output.png\"\n",
    "# Not gifs\n",
    "output_size = (512,512)\n",
    "# Gifs\n",
    "#output_size = (256,256)\n",
    "\n",
    "input_image = Image.open(input_file)\n",
    "\n",
    "#conformal_map = lambda z : spiral(input_image.height,input_image.width,z)\n",
    "#conformal_map = mobius_inverse(1,-1j,1,1j)\n",
    "\n",
    "\n",
    "if input_image.format == \"GIF\":\n",
    "    # Currently produces bloated files, the linear \n",
    "    # interpolation does not like working with a \n",
    "    # a palette so this does everything in rgb\n",
    "    # at the end should realy convert to a palette\n",
    "    # again to save space\n",
    "    frames = []\n",
    "    index = 0\n",
    "    for frame in ImageSequence.Iterator(input_image):\n",
    "        index += 1\n",
    "        print(\"Computing frame:\", index)\n",
    "        output = apply_map(input_image,output_size,conformal_map)\n",
    "        frames.append(output)\n",
    "    \n",
    "    # All of this just facilitates animation\n",
    "    # Save every frame one after the other\n",
    "    # Loop forever\n",
    "    # 33 miliseconds per frame: 30fps\n",
    "    frames[0].save(output_file,\n",
    "                   save_all=True,\n",
    "                   append_images=frames[1:],\n",
    "                   loop=0,\n",
    "                   duration=33)\n",
    "else:\n",
    "    apply_map(input_image,output_size,conformal_map).save(output_file)\n",
    "\n",
    "print(\"done\")\n"
   ]
  },
  {
   "cell_type": "code",
   "execution_count": null,
   "metadata": {},
   "outputs": [],
   "source": []
  },
  {
   "cell_type": "code",
   "execution_count": null,
   "metadata": {},
   "outputs": [],
   "source": []
  }
 ],
 "metadata": {
  "kernelspec": {
   "display_name": "Python 3",
   "language": "python",
   "name": "python3"
  },
  "language_info": {
   "codemirror_mode": {
    "name": "ipython",
    "version": 3
   },
   "file_extension": ".py",
   "mimetype": "text/x-python",
   "name": "python",
   "nbconvert_exporter": "python",
   "pygments_lexer": "ipython3",
   "version": "3.7.0"
  }
 },
 "nbformat": 4,
 "nbformat_minor": 2
}
